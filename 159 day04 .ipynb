{
 "cells": [
  {
   "cell_type": "markdown",
   "id": "7f4cd23b-0224-4f5d-a2d9-16f42585798a",
   "metadata": {},
   "source": [
    "convert a temperature from celsius to fahrenheit"
   ]
  },
  {
   "cell_type": "code",
   "execution_count": 4,
   "id": "ec6e0dc8-de54-4254-ac82-6d8339ee844e",
   "metadata": {},
   "outputs": [
    {
     "name": "stdin",
     "output_type": "stream",
     "text": [
      "enter the temperature in celsius : 37\n"
     ]
    },
    {
     "name": "stdout",
     "output_type": "stream",
     "text": [
      " 37.00 c = 98.60 F \n"
     ]
    }
   ],
   "source": [
    "celsius = float(input(\"enter the temperature in celsius :\"))\n",
    "fahrenheit = (celsius * 1.8) + 32\n",
    "print(\" %.2f c = %.2f F \" %(celsius,fahrenheit))"
   ]
  },
  {
   "cell_type": "markdown",
   "id": "6fe4f702-95e6-4519-8174-22ccf5504623",
   "metadata": {},
   "source": [
    "find the second largest element in a list"
   ]
  },
  {
   "cell_type": "code",
   "execution_count": 6,
   "id": "43037a0e-7044-4292-8160-a8c52ed31c4e",
   "metadata": {},
   "outputs": [
    {
     "name": "stdout",
     "output_type": "stream",
     "text": [
      "[0, 1, 2, 3, 4, 5, 6, 7, 8, 9]\n",
      "8\n"
     ]
    }
   ],
   "source": [
    "list1 = [2,4,6,9,3,0,1,5,7,8]\n",
    "\n",
    "list1.sort()\n",
    "print(list1)\n",
    "print(list1[-2])"
   ]
  },
  {
   "cell_type": "markdown",
   "id": "453b3bd5-330b-4542-b54f-9842f7642d3d",
   "metadata": {},
   "source": [
    "count the occurrences of each element in a list"
   ]
  },
  {
   "cell_type": "code",
   "execution_count": 8,
   "id": "93178d83-caa0-44ca-8008-09e60abda529",
   "metadata": {},
   "outputs": [
    {
     "name": "stdout",
     "output_type": "stream",
     "text": [
      "{12: 2, 44: 3, 6: 1, 20: 2}\n"
     ]
    }
   ],
   "source": [
    "list1 = [12,44,6,12,20,44,20,44]\n",
    "count=dict()\n",
    "\n",
    "for i in list1:\n",
    "    if i in count:\n",
    "        count[i]+=1\n",
    "    else:\n",
    "        count[i]=1\n",
    "\n",
    "print(count)"
   ]
  },
  {
   "cell_type": "markdown",
   "id": "168a182e-5a81-4939-9c5a-a07add2d2fb7",
   "metadata": {},
   "source": [
    "find the sum of all even numbers in a list"
   ]
  },
  {
   "cell_type": "code",
   "execution_count": 12,
   "id": "250f9d0d-bd2a-4f26-8f51-60b923476895",
   "metadata": {},
   "outputs": [
    {
     "name": "stdout",
     "output_type": "stream",
     "text": [
      "sum of list is: 55\n"
     ]
    }
   ],
   "source": [
    "a = [1,2,3,4,5,6,7,8,9,10]\n",
    "sum = 0\n",
    "for i in a:\n",
    "    sum=sum+i\n",
    "print(\"sum of list is:\",sum)"
   ]
  },
  {
   "cell_type": "markdown",
   "id": "18fbe721-e85b-4566-9ab9-693b02af43a7",
   "metadata": {},
   "source": [
    "count the number of vowels in a string"
   ]
  },
  {
   "cell_type": "code",
   "execution_count": 13,
   "id": "cb69584f-d865-4f68-a0f4-479720516d49",
   "metadata": {},
   "outputs": [
    {
     "name": "stdin",
     "output_type": "stream",
     "text": [
      "Text:  sunidhi\n"
     ]
    },
    {
     "name": "stdout",
     "output_type": "stream",
     "text": [
      "count: 3\n"
     ]
    }
   ],
   "source": [
    "def count_vowels(text):\n",
    "    count = 0\n",
    "    for character in text:\n",
    "        if (character in \"AaEeIiOoUu\"):\n",
    "            count += 1\n",
    "\n",
    "    return count\n",
    "\n",
    "text = input(\"Text: \")\n",
    "count = count_vowels(text)\n",
    "print(\"count:\",count)"
   ]
  },
  {
   "cell_type": "markdown",
   "id": "3adaa04a-3e1f-4aee-8ac2-47d4b7f28ae5",
   "metadata": {},
   "source": [
    "reverse the words in given sentence"
   ]
  },
  {
   "cell_type": "code",
   "execution_count": 15,
   "id": "85aa55b1-16df-498b-9730-508ad70ddceb",
   "metadata": {},
   "outputs": [
    {
     "name": "stdout",
     "output_type": "stream",
     "text": [
      "['hello', 'world']\n",
      "['world', 'hello']\n"
     ]
    }
   ],
   "source": [
    "str=\"hello world\"\n",
    "\n",
    "words=str.split(\" \")\n",
    "print(words)\n",
    "\n",
    "words=words[-1::-1]\n",
    "print(words)\n",
    "\n",
    "outputstr=' '.join(words)"
   ]
  },
  {
   "cell_type": "code",
   "execution_count": null,
   "id": "6b5a5566-4ce9-4bb0-b753-dddde801b965",
   "metadata": {},
   "outputs": [],
   "source": []
  }
 ],
 "metadata": {
  "kernelspec": {
   "display_name": "Python 3 (ipykernel)",
   "language": "python",
   "name": "python3"
  },
  "language_info": {
   "codemirror_mode": {
    "name": "ipython",
    "version": 3
   },
   "file_extension": ".py",
   "mimetype": "text/x-python",
   "name": "python",
   "nbconvert_exporter": "python",
   "pygments_lexer": "ipython3",
   "version": "3.12.3"
  }
 },
 "nbformat": 4,
 "nbformat_minor": 5
}
