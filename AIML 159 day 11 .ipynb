{
 "cells": [
  {
   "cell_type": "code",
   "execution_count": 2,
   "id": "1ae5e9fa-47ce-4289-837f-649ecb8fd4a4",
   "metadata": {},
   "outputs": [
    {
     "name": "stdout",
     "output_type": "stream",
     "text": [
      "1 ---> 2 ---> 3 ---> 4 --->\n"
     ]
    }
   ],
   "source": [
    "#front insert\n",
    "class node:\n",
    "    def __init__(self, data):\n",
    "        self.data = data\n",
    "        self.next = None\n",
    "\n",
    "head=node(1)\n",
    "head.next=node(2)\n",
    "head.next.next=node(3)\n",
    "head.next.next.next=node(4)\n",
    "\n",
    "print(head.data,\"--->\",\n",
    "head.next.data,\"--->\",\n",
    "head.next.next.data,\"--->\",\n",
    "head.next.next.next.data,\"--->\")      "
   ]
  },
  {
   "cell_type": "code",
   "execution_count": 3,
   "id": "c45c2705-83d2-4bb6-82d9-879a941a131e",
   "metadata": {},
   "outputs": [
    {
     "name": "stdin",
     "output_type": "stream",
     "text": [
      " 0\n"
     ]
    },
    {
     "name": "stdout",
     "output_type": "stream",
     "text": [
      "0\n"
     ]
    }
   ],
   "source": [
    "x=int(input())\n",
    "temp=node(x)\n",
    "temp.next=head\n",
    "head=temp\n",
    "print(head.data)"
   ]
  },
  {
   "cell_type": "code",
   "execution_count": 5,
   "id": "78eb7718-0790-4ccb-9a38-2825e4bedf0f",
   "metadata": {},
   "outputs": [
    {
     "name": "stdout",
     "output_type": "stream",
     "text": [
      "0 ---> 1 ---> 2 ---> 3 --->\n"
     ]
    }
   ],
   "source": [
    "print(head.data,\"--->\",\n",
    "head.next.data,\"--->\",\n",
    "head.next.next.data,\"--->\",\n",
    "head.next.next.next.data,\"--->\")      "
   ]
  },
  {
   "cell_type": "code",
   "execution_count": null,
   "id": "1b523933-f8fe-4dda-a704-0637d38586d0",
   "metadata": {},
   "outputs": [],
   "source": [
    "x=int(input())\n",
    "temp=node(x)\n",
    "curr=head\n",
    "if curr==None:\n",
    "    curr=temp\n",
    "else:\n",
    "    while curr.next!=None:\n",
    "        curr=curr.next\n",
    "        curr.next=t\n",
    "    \n"
   ]
  },
  {
   "cell_type": "code",
   "execution_count": 1,
   "id": "12fdf9eb-21bc-4183-99f0-5a781614ec28",
   "metadata": {},
   "outputs": [
    {
     "name": "stdout",
     "output_type": "stream",
     "text": [
      "preorder\n",
      "1\n",
      "2\n",
      "4\n",
      "5\n",
      "3\n",
      "6\n",
      "7\n",
      "postorder is\n",
      "4\n",
      "5\n",
      "2\n",
      "6\n",
      "7\n",
      "3\n",
      "1\n",
      "inorder is\n",
      "4\n",
      "2\n",
      "5\n",
      "1\n",
      "6\n",
      "3\n",
      "7\n",
      "level order traversal\n",
      "1 \n",
      "2 3 \n",
      "4 5 6 7 \n"
     ]
    }
   ],
   "source": [
    "class node:\n",
    "    def __init__(self,value):\n",
    "        self.data=value\n",
    "        self.left=None\n",
    "        self.right=None\n",
    "\n",
    "def preorder(root):\n",
    "    if root == None:\n",
    "        return\n",
    "    print(root.data)\n",
    "    preorder(root.left)\n",
    "    preorder(root.right)\n",
    "\n",
    "def postorder(root):\n",
    "    if root == None:\n",
    "        return\n",
    "    postorder(root.left)\n",
    "    postorder(root.right)\n",
    "    print(root.data)\n",
    "\n",
    "def inorder(root):\n",
    "    if root == None:\n",
    "        return\n",
    "    inorder(root.left)\n",
    "    print(root.data)\n",
    "    inorder(root.right)\n",
    "\n",
    "def levelorder(root):\n",
    "    Q=[root,None]\n",
    "    while Q:\n",
    "        curr = Q.pop(0)\n",
    "        if curr == None:\n",
    "            print()\n",
    "            if Q:\n",
    "                Q.append(curr)\n",
    "        else:\n",
    "            print(curr.data,end=\" \")\n",
    "            if curr.left != None:\n",
    "                Q.append(curr.left)\n",
    "\n",
    "            if curr.right != None:\n",
    "                Q.append(curr.right)\n",
    "\n",
    "    \n",
    "    \n",
    "root = node(1)\n",
    "root.left = node(2)\n",
    "root.right = node(3)\n",
    "\n",
    "root.left.left = node(4)\n",
    "root.left.right = node(5)\n",
    "\n",
    "root.right.left = node(6)\n",
    "root.right.right = node(7)\n",
    "\n",
    "print(\"preorder\")\n",
    "preorder(root)\n",
    "print(\"postorder is\")\n",
    "postorder(root)\n",
    "print(\"inorder is\")\n",
    "inorder(root)\n",
    "print(\"level order traversal\")\n",
    "levelorder(root)"
   ]
  },
  {
   "cell_type": "code",
   "execution_count": null,
   "id": "bed344a8-989d-4cee-b8d9-5a097a58a38f",
   "metadata": {},
   "outputs": [],
   "source": []
  }
 ],
 "metadata": {
  "kernelspec": {
   "display_name": "Python 3 (ipykernel)",
   "language": "python",
   "name": "python3"
  },
  "language_info": {
   "codemirror_mode": {
    "name": "ipython",
    "version": 3
   },
   "file_extension": ".py",
   "mimetype": "text/x-python",
   "name": "python",
   "nbconvert_exporter": "python",
   "pygments_lexer": "ipython3",
   "version": "3.12.3"
  }
 },
 "nbformat": 4,
 "nbformat_minor": 5
}
