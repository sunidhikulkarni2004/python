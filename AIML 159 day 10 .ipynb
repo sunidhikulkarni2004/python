{
 "cells": [
  {
   "cell_type": "code",
   "execution_count": 5,
   "id": "3153da50-c3bb-4729-b949-60ddae2f2560",
   "metadata": {},
   "outputs": [
    {
     "name": "stdout",
     "output_type": "stream",
     "text": [
      "2\n",
      "4\n",
      "6\n",
      "8\n",
      "10\n",
      "12\n",
      "14\n",
      "16\n",
      "18\n",
      "20\n"
     ]
    }
   ],
   "source": [
    "for i in range(1,11):\n",
    "    print(i*2)\n",
    "\n",
    "#initialization i=1\n",
    "#condition = range<11\n",
    "#updation = i=i+1\n",
    "#statement = i*2"
   ]
  },
  {
   "cell_type": "code",
   "execution_count": 4,
   "id": "db46b67c-5b3f-4832-95d4-9daf2d4bf5ef",
   "metadata": {},
   "outputs": [],
   "source": [
    "def fun(i):\n",
    "    if i == 11: \n",
    "        return 1\n",
    "        print(i*2)\n",
    "    else:\n",
    "        i=i+1\n",
    "        fun(i)\n",
    "        return i"
   ]
  },
  {
   "cell_type": "code",
   "execution_count": 11,
   "id": "b99fa249-5598-4533-aa96-2a8f586fa491",
   "metadata": {},
   "outputs": [
    {
     "name": "stdin",
     "output_type": "stream",
     "text": [
      " 5\n"
     ]
    },
    {
     "name": "stdout",
     "output_type": "stream",
     "text": [
      "120\n"
     ]
    }
   ],
   "source": [
    "#factorial of a number\n",
    "\n",
    "n=int(input())\n",
    "fact=1\n",
    "for i in range(1,n+1):\n",
    "    fact*=i\n",
    "\n",
    "print(fact)\n"
   ]
  },
  {
   "cell_type": "code",
   "execution_count": 14,
   "id": "f7b2bed1-467c-40ac-8ffe-70cf7118a92a",
   "metadata": {},
   "outputs": [
    {
     "name": "stdin",
     "output_type": "stream",
     "text": [
      "enter a number:  5\n"
     ]
    },
    {
     "name": "stdout",
     "output_type": "stream",
     "text": [
      "factorial of 5 is 120\n"
     ]
    }
   ],
   "source": [
    "#factorial of a number using recursion method\n",
    "\n",
    "def fact(n):\n",
    "    if n == 0:\n",
    "        return 1\n",
    "    else:\n",
    "        return n*fact(n-1)\n",
    "\n",
    "num = int(input(\"enter a number: \"))\n",
    "print(\"factorial of\", num, \"is\",fact(num))\n"
   ]
  },
  {
   "cell_type": "code",
   "execution_count": 20,
   "id": "018b8312-ccc8-449d-ad63-0ce6de311a22",
   "metadata": {},
   "outputs": [
    {
     "name": "stdin",
     "output_type": "stream",
     "text": [
      "enter a number:  5\n"
     ]
    },
    {
     "name": "stdout",
     "output_type": "stream",
     "text": [
      "120\n"
     ]
    }
   ],
   "source": [
    "#itretating code for factorial\n",
    "\n",
    "fact = 1\n",
    "n=int(input(\"enter a number: \"))\n",
    "for i in range(n,1,-1):\n",
    "    fact*=i#fact = fact*i\n",
    "print(fact) \n",
    "\n",
    "#initializaion = i = n\n",
    "#condition = range>1\n",
    "#statement = fact*=i"
   ]
  },
  {
   "cell_type": "code",
   "execution_count": 6,
   "id": "cfafe08f-a84a-4a85-93c0-79fb89dd7755",
   "metadata": {},
   "outputs": [
    {
     "name": "stdin",
     "output_type": "stream",
     "text": [
      "enter the number of fibonacci numbers you want:  10\n"
     ]
    },
    {
     "name": "stdout",
     "output_type": "stream",
     "text": [
      "0 1 1 2 3 5 8 13 21 34 "
     ]
    }
   ],
   "source": [
    "def fibonacci(n):\n",
    "    a , b = 0, 1\n",
    "    for _ in range(n):\n",
    "        print(a, end=\" \")\n",
    "        a , b = b, a + b\n",
    "n = int(input(\"enter the number of fibonacci numbers you want: \"))\n",
    "fibonacci(n)   "
   ]
  },
  {
   "cell_type": "code",
   "execution_count": 7,
   "id": "63d2c646-c9b9-4b9c-9dde-81d9e89208e7",
   "metadata": {},
   "outputs": [
    {
     "ename": "NameError",
     "evalue": "name 'pr' is not defined",
     "output_type": "error",
     "traceback": [
      "\u001b[1;31m---------------------------------------------------------------------------\u001b[0m",
      "\u001b[1;31mNameError\u001b[0m                                 Traceback (most recent call last)",
      "Cell \u001b[1;32mIn[7], line 18\u001b[0m\n\u001b[0;32m     16\u001b[0m \u001b[38;5;66;03m#main\u001b[39;00m\n\u001b[0;32m     17\u001b[0m ar\u001b[38;5;241m=\u001b[39m [\u001b[38;5;241m3\u001b[39m,\u001b[38;5;241m5\u001b[39m,\u001b[38;5;241m7\u001b[39m,\u001b[38;5;241m2\u001b[39m,\u001b[38;5;241m4\u001b[39m,\u001b[38;5;241m8\u001b[39m,\u001b[38;5;241m1\u001b[39m,\u001b[38;5;241m9\u001b[39m,\u001b[38;5;241m6\u001b[39m]\n\u001b[1;32m---> 18\u001b[0m \u001b[43mquicksort\u001b[49m\u001b[43m(\u001b[49m\u001b[43mar\u001b[49m\u001b[43m,\u001b[49m\u001b[38;5;241;43m0\u001b[39;49m\u001b[43m,\u001b[49m\u001b[38;5;28;43mlen\u001b[39;49m\u001b[43m(\u001b[49m\u001b[43mar\u001b[49m\u001b[43m)\u001b[49m\u001b[38;5;241;43m-\u001b[39;49m\u001b[38;5;241;43m1\u001b[39;49m\u001b[43m)\u001b[49m\n\u001b[0;32m     19\u001b[0m \u001b[38;5;28mprint\u001b[39m(ar)\n",
      "Cell \u001b[1;32mIn[7], line 12\u001b[0m, in \u001b[0;36mquicksort\u001b[1;34m(ar, low, high)\u001b[0m\n\u001b[0;32m     10\u001b[0m \u001b[38;5;28;01mdef\u001b[39;00m \u001b[38;5;21mquicksort\u001b[39m(ar,low,high):\n\u001b[0;32m     11\u001b[0m     \u001b[38;5;28;01mif\u001b[39;00m low \u001b[38;5;241m<\u001b[39m high:\n\u001b[1;32m---> 12\u001b[0m         pi \u001b[38;5;241m=\u001b[39m \u001b[43mfindpi\u001b[49m\u001b[43m(\u001b[49m\u001b[43mar\u001b[49m\u001b[43m,\u001b[49m\u001b[43mlow\u001b[49m\u001b[43m,\u001b[49m\u001b[43mhigh\u001b[49m\u001b[43m)\u001b[49m\n\u001b[0;32m     13\u001b[0m         quicksort(ar,low,pi\u001b[38;5;241m-\u001b[39m\u001b[38;5;241m1\u001b[39m)\n\u001b[0;32m     14\u001b[0m         quicksort(ar,pi\u001b[38;5;241m+\u001b[39m\u001b[38;5;241m1\u001b[39m,high)\n",
      "Cell \u001b[1;32mIn[7], line 4\u001b[0m, in \u001b[0;36mfindpi\u001b[1;34m(ar, low, high)\u001b[0m\n\u001b[0;32m      2\u001b[0m pe\u001b[38;5;241m=\u001b[39mar[high]\n\u001b[0;32m      3\u001b[0m \u001b[38;5;28;01mfor\u001b[39;00m i \u001b[38;5;129;01min\u001b[39;00m \u001b[38;5;28mrange\u001b[39m(low,high):\n\u001b[1;32m----> 4\u001b[0m      \u001b[38;5;28;01mif\u001b[39;00m \u001b[43mpr\u001b[49m\u001b[38;5;241m>\u001b[39mar[i]:\n\u001b[0;32m      5\u001b[0m          j\u001b[38;5;241m+\u001b[39m\u001b[38;5;241m=\u001b[39m\u001b[38;5;241m1\u001b[39m\n\u001b[0;32m      6\u001b[0m          ar[i],ar[j]\u001b[38;5;241m=\u001b[39mar[j],ar[i]\n",
      "\u001b[1;31mNameError\u001b[0m: name 'pr' is not defined"
     ]
    }
   ],
   "source": [
    "\n",
    "def findpi(ar,low,high):\n",
    "    pe=ar[high]\n",
    "    j=low-1\n",
    "    for i in range(low,high):\n",
    "         if pr>ar[i]:\n",
    "             j+=1\n",
    "             ar[i],ar[j]=ar[j],ar[i]\n",
    "    ar[high],ar[j+1]=ar[j+1],ar[high]\n",
    "    return j+1\n",
    "    \n",
    "def quicksort(ar,low,high):\n",
    "    if low < high:\n",
    "        pi = findpi(ar,low,high)\n",
    "        quicksort(ar,low,pi-1)\n",
    "        quicksort(ar,pi+1,high)\n",
    "\n",
    "#main\n",
    "ar= [3,5,7,2,4,8,1,9,6]\n",
    "quicksort(ar,0,len(ar)-1)\n",
    "print(ar)"
   ]
  },
  {
   "cell_type": "code",
   "execution_count": 3,
   "id": "711ef08a-a789-4966-a576-c53c201e4ac9",
   "metadata": {},
   "outputs": [
    {
     "name": "stdout",
     "output_type": "stream",
     "text": [
      "Node 1 <__main__.node object at 0x000002DDC33AB6B0> 1\n",
      "Node 2 <__main__.node object at 0x000002DDC33A9FA0> 2\n",
      "Node 3 <__main__.node object at 0x000002DDC33ABFE0> 3\n",
      "Node 4 <__main__.node object at 0x000002DDC33A9D00> 4\n"
     ]
    }
   ],
   "source": [
    "#linked list\n",
    "\n",
    "class node:\n",
    "    def __init__(self,value):\n",
    "        self.data=value\n",
    "        self.next=None\n",
    "\n",
    "head= node(1)\n",
    "head.next=node(2)\n",
    "head.next.next=node(3)\n",
    "head.next.next.next=node(4)\n",
    "\n",
    "print(\"Node 1\",head,head.data)\n",
    "print(\"Node 2\",head.next,head.next.data)\n",
    "print(\"Node 3\",head.next.next,head.next.next.data)\n",
    "print(\"Node 4\",head.next.next.next,head.next.next.next.data)"
   ]
  },
  {
   "cell_type": "code",
   "execution_count": null,
   "id": "436b7344-10b2-4a03-9e14-c9207da1d48b",
   "metadata": {},
   "outputs": [],
   "source": []
  }
 ],
 "metadata": {
  "kernelspec": {
   "display_name": "Python 3 (ipykernel)",
   "language": "python",
   "name": "python3"
  },
  "language_info": {
   "codemirror_mode": {
    "name": "ipython",
    "version": 3
   },
   "file_extension": ".py",
   "mimetype": "text/x-python",
   "name": "python",
   "nbconvert_exporter": "python",
   "pygments_lexer": "ipython3",
   "version": "3.12.3"
  }
 },
 "nbformat": 4,
 "nbformat_minor": 5
}
