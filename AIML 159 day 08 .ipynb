{
 "cells": [
  {
   "cell_type": "code",
   "execution_count": 3,
   "id": "2e94b316-e6bf-4ac9-b2eb-856b4655ff71",
   "metadata": {},
   "outputs": [
    {
     "name": "stdout",
     "output_type": "stream",
     "text": [
      "sorted array is: [13, 23, 34, 35, 45, 67, 78, 90]\n"
     ]
    }
   ],
   "source": [
    "def bubble_sort(arr):\n",
    "    n = len(arr)\n",
    "    for i in range(n):\n",
    "        for j in range(0, n-i-1):\n",
    "            if arr[j] > arr[j+1]:\n",
    "                arr[j], arr[j+1]=arr[j+1],arr[j]\n",
    "\n",
    "arr = [34,78,13,45,67,23,90,35]\n",
    "bubble_sort(arr)\n",
    "print(\"sorted array is:\",arr)"
   ]
  },
  {
   "cell_type": "code",
   "execution_count": 5,
   "id": "3dbd4b4b-0be7-487c-8246-59fa3f74860f",
   "metadata": {},
   "outputs": [
    {
     "name": "stdout",
     "output_type": "stream",
     "text": [
      "[1, 4, 5, 6, 7, 8, 9]\n"
     ]
    }
   ],
   "source": [
    "arr=[5,4,8,1,9,6,7]\n",
    "for i in range(0,len(arr)):\n",
    "    for j in range(0,len(arr)-1):\n",
    "        if arr[j] > arr[j+1]:\n",
    "            temp=arr[j]\n",
    "            arr[j]=arr[j+1]\n",
    "            arr[j+1]=temp\n",
    "\n",
    "print(arr)"
   ]
  },
  {
   "cell_type": "code",
   "execution_count": 10,
   "id": "734d0ec0-f874-43e2-bf3e-56514ed07524",
   "metadata": {},
   "outputs": [
    {
     "name": "stdout",
     "output_type": "stream",
     "text": [
      "[2, 2, 3, 4, 5, 6, 7]\n"
     ]
    }
   ],
   "source": [
    "arr=[3,2,4,5,6,7,2] #insertion sort\n",
    "for i in range(1,len(arr)):\n",
    "    temp = arr[i]\n",
    "    j = i-1\n",
    "    while j>=0 and temp<arr[j]:\n",
    "        arr[j+1]=arr[j]\n",
    "        j -=1\n",
    "        arr[j+1] = temp\n",
    "        \n",
    "print(arr)"
   ]
  },
  {
   "cell_type": "code",
   "execution_count": 11,
   "id": "d4d2e561-55d4-4c86-80dc-544e46ec2d50",
   "metadata": {},
   "outputs": [
    {
     "name": "stdout",
     "output_type": "stream",
     "text": [
      "[2, 7, 2, 3, 4, 5, 6]\n"
     ]
    }
   ],
   "source": [
    "arr=[3,2,4,5,6,7,2] #selection sort\n",
    "\n",
    "for i in range(0,len(arr)):\n",
    "    min_idx=1\n",
    "    for j in range(i+1,len(arr)):\n",
    "        if arr[min_idx]>arr[j]:\n",
    "            min_idx=j\n",
    "    temp=arr[i]\n",
    "    arr[i]=arr[min_idx]\n",
    "    arr[min_idx]=temp\n",
    "\n",
    "print(arr)"
   ]
  },
  {
   "cell_type": "code",
   "execution_count": 1,
   "id": "6720671c-0e04-4fd4-a5c8-1a232788d910",
   "metadata": {},
   "outputs": [
    {
     "name": "stdout",
     "output_type": "stream",
     "text": [
      "[18, 20, 23, 32, 34, 45, 56, 59, 69, 75, 78, 78, 87, 90, 96]\n"
     ]
    },
    {
     "name": "stdin",
     "output_type": "stream",
     "text": [
      " 23\n"
     ]
    },
    {
     "name": "stdout",
     "output_type": "stream",
     "text": [
      "index of element is 2\n",
      "low 0 high 15 mid 7\n",
      "low 0 high 6 mid 3\n",
      "low 0 high 2 mid 1\n",
      "element not found at 1\n"
     ]
    }
   ],
   "source": [
    "L=[23,45,78,32,87,56,34,90,78,96,59,69,75,20,18]\n",
    "L.sort()\n",
    "print(L)\n",
    "low=0\n",
    "high = len(L)\n",
    "srch=int(input())\n",
    "try:\n",
    "    print(\"index of element is\",L.index(srch))\n",
    "except:\n",
    "    print(\"item not in list\")\n",
    "Flag=0\n",
    "while low<high:\n",
    "    mid=int(low+(high-low)/2)\n",
    "    print(\"low\",low,\"high\",high,\"mid\",mid)\n",
    "    if srch<L[mid]:\n",
    "        high=mid-1\n",
    "    elif srch>L[mid]:\n",
    "        low=mid+1\n",
    "    else:\n",
    "        Flag=1\n",
    "        break;\n",
    "\n",
    "if Flag==1:\n",
    "    print(\"element found at\",mid)\n",
    "else:\n",
    "    print(\"element not found at\",mid)"
   ]
  },
  {
   "cell_type": "code",
   "execution_count": 5,
   "id": "01986a80-7b0a-4346-b6d9-f7b8bbd0866a",
   "metadata": {},
   "outputs": [
    {
     "name": "stdin",
     "output_type": "stream",
     "text": [
      " shravani is ()[ chutiya]\n"
     ]
    },
    {
     "name": "stdout",
     "output_type": "stream",
     "text": [
      "valid string\n"
     ]
    }
   ],
   "source": [
    "s=input()\n",
    "x=y=z=0\n",
    "for c in s:\n",
    "    match (c):\n",
    "        case '(':x+=1\n",
    "        case ')':x-=1\n",
    "        case '{':y+=1\n",
    "        case '}':y-=1\n",
    "        case '[':z+=1\n",
    "        case ']':z-=1\n",
    "        case _:continue\n",
    "\n",
    "if x+y+z == 0:\n",
    "    print(\"valid string\")\n",
    "\n",
    "else:\n",
    "    print(\"invalid string\")"
   ]
  },
  {
   "cell_type": "code",
   "execution_count": 8,
   "id": "ff80800a-66af-4f87-9d0a-1f01f858aa3a",
   "metadata": {},
   "outputs": [
    {
     "name": "stdout",
     "output_type": "stream",
     "text": [
      "item is added in the stack\n",
      "item is added in the stack\n",
      "item is added in the stack\n",
      "item is added in the stack\n",
      "item is added in the stack\n",
      "[1, 7, 1, 1, 2]\n",
      "deleted item\n",
      "[1, 7, 1, 1]\n"
     ]
    }
   ],
   "source": [
    "def add(e):\n",
    "    s.append(e)\n",
    "    print(\"item is added in the stack\")\n",
    "def delete(e):\n",
    "    s.pop()\n",
    "    print(\"deleted item\")\n",
    "\n",
    "s=[]\n",
    "add(1)\n",
    "add(7)\n",
    "add(1)\n",
    "add(1)\n",
    "add(2)\n",
    "print(s)\n",
    "\n",
    "delete(2)\n",
    "print(s)\n"
   ]
  },
  {
   "cell_type": "code",
   "execution_count": 9,
   "id": "01bccb1d-7c7d-4838-b1ff-99895c7c749c",
   "metadata": {},
   "outputs": [
    {
     "name": "stdout",
     "output_type": "stream",
     "text": [
      "element is inserted in the queue\n",
      "element is inserted in the queue\n",
      "element is inserted in the queue\n",
      "element is inserted in the queue\n",
      "element is inserted in the queue\n",
      "[1, 3, 8, 4, 2]\n"
     ]
    },
    {
     "ename": "AttributeError",
     "evalue": "'list' object has no attribute 'rem'",
     "output_type": "error",
     "traceback": [
      "\u001b[1;31m---------------------------------------------------------------------------\u001b[0m",
      "\u001b[1;31mAttributeError\u001b[0m                            Traceback (most recent call last)",
      "Cell \u001b[1;32mIn[9], line 16\u001b[0m\n\u001b[0;32m     13\u001b[0m add(\u001b[38;5;241m1\u001b[39m)\n\u001b[0;32m     14\u001b[0m \u001b[38;5;28mprint\u001b[39m(s)\n\u001b[1;32m---> 16\u001b[0m \u001b[43mremove\u001b[49m\u001b[43m(\u001b[49m\u001b[38;5;241;43m3\u001b[39;49m\u001b[43m)\u001b[49m\n\u001b[0;32m     17\u001b[0m \u001b[38;5;28mprint\u001b[39m(s)\n",
      "Cell \u001b[1;32mIn[9], line 5\u001b[0m, in \u001b[0;36mremove\u001b[1;34m(e)\u001b[0m\n\u001b[0;32m      4\u001b[0m \u001b[38;5;28;01mdef\u001b[39;00m \u001b[38;5;21mremove\u001b[39m(e):\n\u001b[1;32m----> 5\u001b[0m     \u001b[43ms\u001b[49m\u001b[38;5;241;43m.\u001b[39;49m\u001b[43mrem\u001b[49m()\n\u001b[0;32m      6\u001b[0m     \u001b[38;5;28mprint\u001b[39m(\u001b[38;5;124m\"\u001b[39m\u001b[38;5;124mremoved element\u001b[39m\u001b[38;5;124m\"\u001b[39m)\n",
      "\u001b[1;31mAttributeError\u001b[0m: 'list' object has no attribute 'rem'"
     ]
    }
   ],
   "source": [
    "def add(e):\n",
    "    s.insert(0,e)\n",
    "    print(\"element is inserted in the queue\")\n",
    "def remove(e):\n",
    "    s.rem()\n",
    "    print(\"removed element\")\n",
    "\n",
    "s=[]\n",
    "add(2)\n",
    "add(4)\n",
    "add(8)\n",
    "add(3)\n",
    "add(1)\n",
    "print(s)\n",
    "\n",
    "remove(3)\n",
    "print(s)"
   ]
  },
  {
   "cell_type": "code",
   "execution_count": null,
   "id": "9173259e-bcd3-49ec-8d92-7bd931a51bad",
   "metadata": {},
   "outputs": [],
   "source": []
  }
 ],
 "metadata": {
  "kernelspec": {
   "display_name": "Python 3 (ipykernel)",
   "language": "python",
   "name": "python3"
  },
  "language_info": {
   "codemirror_mode": {
    "name": "ipython",
    "version": 3
   },
   "file_extension": ".py",
   "mimetype": "text/x-python",
   "name": "python",
   "nbconvert_exporter": "python",
   "pygments_lexer": "ipython3",
   "version": "3.12.3"
  }
 },
 "nbformat": 4,
 "nbformat_minor": 5
}
