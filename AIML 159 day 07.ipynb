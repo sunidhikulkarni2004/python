{
 "cells": [
  {
   "cell_type": "code",
   "execution_count": 7,
   "id": "666d75b6-2b49-4842-b681-7ad6f5052167",
   "metadata": {},
   "outputs": [
    {
     "name": "stdout",
     "output_type": "stream",
     "text": [
      "45\n"
     ]
    }
   ],
   "source": [
    "#find the maximum sum of any consecutive elemnts of the array.\n",
    "L=[2,4,6,1,3,7,3,5,1,8,9,5,7,3,2,4,6,5,1,2,4,5,6,3,4,5,6,7,2,9,4,3,2,5,6,3,1,7,8,5,3,4,8,2,4,9,7,3,4,2,4,1,3,5,2,4,6,1,3,7,3,5,1,8,9,5,7,3,2,4,6,5,1,2,4,5,6]\n",
    "\n",
    "max = 0\n",
    "for x in range(0,len(L)-7):\n",
    "    sum =L[x]+L[x+1]+L[x+2]+L[x+3]+L[x+4]+L[x+5]+L[x+6]+L[x+7]\n",
    "    if(max<sum):\n",
    "        max=sum\n",
    "\n",
    "print(max)"
   ]
  },
  {
   "cell_type": "code",
   "execution_count": 4,
   "id": "d70ab4a9-f97c-4f87-b48d-c77318e8a36e",
   "metadata": {},
   "outputs": [
    {
     "name": "stdin",
     "output_type": "stream",
     "text": [
      " 3,4,5\n"
     ]
    },
    {
     "name": "stdout",
     "output_type": "stream",
     "text": [
      "maximum sum of three consecutive numbers 25\n"
     ]
    }
   ],
   "source": [
    "L=[2,3,4,1,5,6,7,3,6,8,9,8]\n",
    "\n",
    "max = 0\n",
    "n = input()\n",
    "for x in range(0,len(L)-2):\n",
    "    sum = L[x]+L[x+1]+L[x+2]\n",
    "    if(max<sum):\n",
    "        max=sum\n",
    "\n",
    "print(\"maximum sum of three consecutive numbers\", max)"
   ]
  },
  {
   "cell_type": "code",
   "execution_count": 3,
   "id": "122abacd-1dcf-4439-9ad1-41a7ecc4604f",
   "metadata": {},
   "outputs": [
    {
     "name": "stdout",
     "output_type": "stream",
     "text": [
      "[1, 3, 4, 5, 7, 9]\n"
     ]
    }
   ],
   "source": [
    "a=[3,5,4,1,7,9]\n",
    "for i in range(0,1):\n",
    "    a.sort()\n",
    "\n",
    "print(a)"
   ]
  }
 ],
 "metadata": {
  "kernelspec": {
   "display_name": "Python 3 (ipykernel)",
   "language": "python",
   "name": "python3"
  },
  "language_info": {
   "codemirror_mode": {
    "name": "ipython",
    "version": 3
   },
   "file_extension": ".py",
   "mimetype": "text/x-python",
   "name": "python",
   "nbconvert_exporter": "python",
   "pygments_lexer": "ipython3",
   "version": "3.12.3"
  }
 },
 "nbformat": 4,
 "nbformat_minor": 5
}
