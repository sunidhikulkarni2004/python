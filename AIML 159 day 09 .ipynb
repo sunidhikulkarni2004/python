{
 "cells": [
  {
   "cell_type": "code",
   "execution_count": 4,
   "id": "886db0cf-10fc-4575-ac60-16a7d118c400",
   "metadata": {},
   "outputs": [
    {
     "name": "stdout",
     "output_type": "stream",
     "text": [
      "item is added in the stack\n",
      "item is added in the stack\n",
      "item is added in the stack\n",
      "item is added in the stack\n",
      "item is added in the stack\n",
      "item is added in the stack\n",
      "['A', 'B', 'C', 'D', 'E', 'F']\n",
      "deleted item\n",
      "deleted item\n",
      "deleted item\n",
      "deleted item\n",
      "deleted item\n",
      "deleted item\n",
      "[]\n",
      "item is added in the stack\n",
      "item is added in the stack\n",
      "item is added in the stack\n",
      "item is added in the stack\n",
      "item is added in the stack\n",
      "item is added in the stack\n",
      "['F', 'E', 'D', 'C', 'B', 'A']\n"
     ]
    }
   ],
   "source": [
    "s=\"A,B,C,D,E,F\"\n",
    "\n",
    "def add(e):\n",
    "    s.append(e)\n",
    "    print(\"item is added in the stack\")\n",
    "def delete(e):\n",
    "    s.pop()\n",
    "    print(\"deleted item\")\n",
    "\n",
    "s=[]\n",
    "add('A')\n",
    "add('B')\n",
    "add('C')\n",
    "add('D')\n",
    "add('E')\n",
    "add('F')\n",
    "print(s)\n",
    "\n",
    "delete('F')\n",
    "delete('E')\n",
    "delete('D')\n",
    "delete('C')\n",
    "delete('B')\n",
    "delete('A')\n",
    "\n",
    "print(s)\n",
    "\n",
    "s=[]\n",
    "add('F')\n",
    "add('E')\n",
    "add('D')\n",
    "add('C')\n",
    "add('B')\n",
    "add('A')\n",
    "print(s)\n"
   ]
  },
  {
   "cell_type": "code",
   "execution_count": 8,
   "id": "bd585317-fa22-4952-ad38-e00cb6476206",
   "metadata": {},
   "outputs": [
    {
     "name": "stdin",
     "output_type": "stream",
     "text": [
      " iam sunidhi\n"
     ]
    },
    {
     "name": "stdout",
     "output_type": "stream",
     "text": [
      "ihdinus mai"
     ]
    }
   ],
   "source": [
    "a=input()\n",
    "s=[]\n",
    "for e in a:\n",
    "    s.append(e)\n",
    "\n",
    "while len(s)>0:\n",
    "    print(s.pop(),end='')"
   ]
  },
  {
   "cell_type": "code",
   "execution_count": 8,
   "id": "516f497a-893b-43b9-b67d-d577e41076d0",
   "metadata": {},
   "outputs": [
    {
     "name": "stdin",
     "output_type": "stream",
     "text": [
      " iam sunidhi\n"
     ]
    },
    {
     "name": "stdout",
     "output_type": "stream",
     "text": [
      "sunidhiiam"
     ]
    }
   ],
   "source": [
    "a=input()\n",
    "s=[]\n",
    "for e in a.split():\n",
    "    s.append(e)\n",
    "\n",
    "while len(s)>0:\n",
    "    print(s.pop(),end='')"
   ]
  },
  {
   "cell_type": "markdown",
   "id": "99bfc9ac-c291-4471-b648-436e5bb03255",
   "metadata": {},
   "source": [
    "-> ^ - 3\n",
    "-> * / - 2\n",
    "->+ - - 1\n",
    "->"
   ]
  },
  {
   "cell_type": "code",
   "execution_count": 23,
   "id": "24ef58b0-2ecb-4e54-915f-965aaba93d6d",
   "metadata": {},
   "outputs": [
    {
     "name": "stdin",
     "output_type": "stream",
     "text": [
      " (a+b)*c\n"
     ]
    },
    {
     "name": "stdout",
     "output_type": "stream",
     "text": [
      " ab+c*\n"
     ]
    }
   ],
   "source": [
    "def prec(e):\n",
    "    if e == \"^\":\n",
    "        return 3\n",
    "    elif e == \"+\" or e == \"/\" :\n",
    "        return 2\n",
    "    elif e == \"+\" or e == \"-\" :\n",
    "        return 1\n",
    "    else:\n",
    "        return -1\n",
    "\n",
    "\n",
    "exp = input()\n",
    "S=[]\n",
    "result=\" \"\n",
    "for e in exp:\n",
    "    if e.isalnum():\n",
    "        result += e\n",
    "    elif e == '(':\n",
    "        S.append(e)\n",
    "    elif e == ')':\n",
    "        while S[-1] != '(':\n",
    "            result += S.pop()\n",
    "        S.pop()\n",
    "    else:\n",
    "        while S and (prec(e)<prec(S[-1]) or (prec(e)==prec(S[-1]) and asoc(e)=='L')):\n",
    "            result +=S.pop()\n",
    "        S.append(e)\n",
    "while S:\n",
    "    result += S.pop()\n",
    "\n",
    "print(result)\n",
    "                "
   ]
  },
  {
   "cell_type": "markdown",
   "id": "807fe1b3-cdf2-43ac-9e1a-2b8770417d99",
   "metadata": {},
   "source": [
    "In a arcade game, there is a king who got spelled by a witch that whenever he eat he have to take care of what is sequence of his food initiate\n",
    "if he eats similar food one after other it will cancel out the its effect and total enery was decreased.\n",
    "your task is to determine the total enery of the king after hid meal\n",
    "\n",
    "example:\n",
    "[\"apple\",\"dal\",\"chapati\",\"rice\",\"apple\",\"apple\",\"dal\",\"rice\",\"dal\",\"chapati\",\"chapati\"]"
   ]
  },
  {
   "cell_type": "code",
   "execution_count": 2,
   "id": "49c8c42a-66e3-446c-b645-e37ee7000225",
   "metadata": {},
   "outputs": [
    {
     "name": "stdin",
     "output_type": "stream",
     "text": [
      "  A D C R R A A D R D C C\n"
     ]
    },
    {
     "name": "stdout",
     "output_type": "stream",
     "text": [
      "['A', 'D', 'C', 'R', 'R', 'A', 'A', 'D', 'R', 'D', 'C', 'C']\n",
      "6 ['A', 'D', 'C', 'D', 'R', 'D']\n"
     ]
    }
   ],
   "source": [
    "a=[item for item in input().split()]\n",
    "print(a)\n",
    "S=[]\n",
    "for item in a:\n",
    "    if not S:\n",
    "        S.append(item)\n",
    "    elif S[-1] == item: \n",
    "        S.pop()\n",
    "    else:\n",
    "        S.append(item)        \n",
    "print(len(S),S)        "
   ]
  },
  {
   "cell_type": "code",
   "execution_count": 7,
   "id": "c96e1411-ca43-4fea-bc8b-9541c941b226",
   "metadata": {},
   "outputs": [
    {
     "name": "stdin",
     "output_type": "stream",
     "text": [
      " {}{}{}\n"
     ]
    },
    {
     "name": "stdout",
     "output_type": "stream",
     "text": [
      "valid\n"
     ]
    }
   ],
   "source": [
    "s=input()\n",
    "S=[]\n",
    "for e in s:\n",
    "    if e == '(' or e == \"{\" or e == \"[\":\n",
    "        S.append(e)\n",
    "    elif (e == '}' and S[-1]== '{') or (e == '}' and S[-1]== '{') or (e == ']' and S[-1]=='['):\n",
    "            S.pop()\n",
    "    else:\n",
    "        continue\n",
    "\n",
    "if not S:\n",
    "    print(\"valid\")\n",
    "else:\n",
    "    print(\"invalid\")\n",
    "        \n",
    "    "
   ]
  },
  {
   "cell_type": "code",
   "execution_count": null,
   "id": "62d1c120-5567-48c3-8aae-e04ef26efb94",
   "metadata": {},
   "outputs": [],
   "source": []
  }
 ],
 "metadata": {
  "kernelspec": {
   "display_name": "Python 3 (ipykernel)",
   "language": "python",
   "name": "python3"
  },
  "language_info": {
   "codemirror_mode": {
    "name": "ipython",
    "version": 3
   },
   "file_extension": ".py",
   "mimetype": "text/x-python",
   "name": "python",
   "nbconvert_exporter": "python",
   "pygments_lexer": "ipython3",
   "version": "3.12.3"
  }
 },
 "nbformat": 4,
 "nbformat_minor": 5
}
