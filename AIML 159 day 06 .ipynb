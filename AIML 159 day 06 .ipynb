{
 "cells": [
  {
   "cell_type": "code",
   "execution_count": 6,
   "id": "8e1691cb-0412-4664-8c84-edb685519982",
   "metadata": {},
   "outputs": [
    {
     "name": "stdout",
     "output_type": "stream",
     "text": [
      "car vehicle porsche 5 70 v9 sdf23 1000000 red\n",
      "truck vehicle diesel 70 v8 ghf15 800000 brown\n"
     ]
    }
   ],
   "source": [
    "class vehicle:\n",
    "    def __init__(self, e, r, p, c):\n",
    "        self.engine = e\n",
    "        self.regplate = r\n",
    "        self.price = p\n",
    "        self.colour = c\n",
    "\n",
    "class car(vehicle):\n",
    "      def __init__(self, t, nop, ms, e, r, p, c):\n",
    "        self.type = t\n",
    "        self.noofpassengers = nop\n",
    "        self.maxspeed = ms  \n",
    "        super().__init__(e, r, p, c)\n",
    "\n",
    "class truck(vehicle):\n",
    "    def __init__(self, noa, lc , e , r , p , c):\n",
    "        self.noofaxle = noa\n",
    "        self.loadcapacity = lc\n",
    "        super().__init__(e, r, p, c)\n",
    "\n",
    "obj1 = vehicle(\"v8\", \"abc13\" , 900000 , \"black\")\n",
    "obj2 = car(\"porsche\" , \"5\" ,\"70\" , \"v9\" , \"sdf23\" , 1000000 , \"red\")\n",
    "obj3 = truck(\"diesel\"  ,\"70\" , \"v8\" , \"ghf15\" , 800000 , \"brown\" )\n",
    "\n",
    "print(\"car vehicle\" , obj2.type , obj2.noofpassengers , obj2.maxspeed , obj2.engine , obj2.regplate , obj2.price , obj2.colour)\n",
    "print(\"truck vehicle\" , obj3.noofaxle , obj3.loadcapacity , obj3.engine , obj3.regplate , obj3.price , obj3.colour)\n",
    "    "
   ]
  },
  {
   "cell_type": "code",
   "execution_count": 12,
   "id": "eef23020-25c8-4750-b733-9a565d3bd89c",
   "metadata": {},
   "outputs": [
    {
     "name": "stdout",
     "output_type": "stream",
     "text": [
      "employee staff 11 shravani 30000 hjds jfj\n",
      "employee developer 15 sudeep 23000 15 ml 17\n",
      "employee manager 19 yashu 30000 ksj bang\n"
     ]
    }
   ],
   "source": [
    "class employee:\n",
    "    def __init__(self,eid,en,es):\n",
    "        self.eid = eid\n",
    "        self.ename = en\n",
    "        self.esalary = es\n",
    "\n",
    "class staff(employee):\n",
    "    def __init__(self,eid,en,es,wt,wp):\n",
    "          super().__init__(eid,en,es)\n",
    "          self.worktype = wt\n",
    "          self.workpr = wp\n",
    "        \n",
    "class developer(employee):\n",
    "    def __init__(self,eid,en,es,m,t,ex):\n",
    "          super().__init__(eid,en,es)\n",
    "          self.module = m\n",
    "          self.tech = t\n",
    "          self.experience = ex\n",
    "        \n",
    "class manager(employee):\n",
    "    def __init__(self,eid,en,es,p,cn):\n",
    "          super().__init__(eid,en,es)\n",
    "          self.project = p\n",
    "          self.clientname = cn\n",
    "\n",
    "obj1 = employee(13,\"sunidhi\",40000)\n",
    "obj2 = staff(11,\"shravani\",30000,\"hjds\",\"jfj\")\n",
    "obj3 = developer(15,\"sudeep\",23000,15,\"ml\",17)\n",
    "obj4 = manager(19,\"yashu\",30000,\"ksj\",\"bang\")\n",
    "\n",
    "print(\"employee staff\",obj2.eid,obj2.ename,obj2.esalary,obj2.worktype,obj2.workpr)\n",
    "print(\"employee developer\",obj3.eid,obj3.ename,obj3.esalary,obj3.module,obj3.tech,obj3.experience)\n",
    "print(\"employee manager\",obj4.eid,obj4.ename,obj4.esalary,obj4.project,obj4.clientname)\n",
    "   "
   ]
  },
  {
   "cell_type": "code",
   "execution_count": 22,
   "id": "5f9dc1ad-9599-4d0b-8a5f-c0ac57957410",
   "metadata": {},
   "outputs": [
    {
     "name": "stdout",
     "output_type": "stream",
     "text": [
      "* \n",
      "* * \n",
      "* * * \n",
      "* * * * \n",
      "* * * * * \n"
     ]
    }
   ],
   "source": [
    "for x in range(0,5):\n",
    "    for y in range(0,x+1):\n",
    "        print(\"*\" ,end=\" \")\n",
    "    print()    "
   ]
  },
  {
   "cell_type": "code",
   "execution_count": 6,
   "id": "94ee3f48-8005-4b92-b9cd-d2c524507e32",
   "metadata": {},
   "outputs": [
    {
     "name": "stdout",
     "output_type": "stream",
     "text": [
      "*  *  *  *  *  \n",
      "*  *  *  *  *  \n",
      "*  *  *  *  *  \n",
      "*  *  *  *  *  \n",
      "*  *  *  *  *  \n"
     ]
    }
   ],
   "source": [
    "for x in range(0,5):\n",
    "    \n",
    "    for y in range(0,y+1):\n",
    "        print(\"*\" , end=\"  \")\n",
    "    print()    "
   ]
  },
  {
   "cell_type": "code",
   "execution_count": 11,
   "id": "7a952bef-ef50-406d-8190-e3f1511b9ecc",
   "metadata": {},
   "outputs": [
    {
     "name": "stdin",
     "output_type": "stream",
     "text": [
      "enter the number of rows: 4\n"
     ]
    },
    {
     "name": "stdout",
     "output_type": "stream",
     "text": [
      "1 \n",
      "1 2 \n",
      "1 2 3 \n",
      "1 2 3 4 \n"
     ]
    }
   ],
   "source": [
    "rows=int(input(\"enter the number of rows:\"))\n",
    "for i in range(1,rows+1):\n",
    "    for j in range(1,i+1):\n",
    "        print(j,end=\" \")\n",
    "    print()    "
   ]
  },
  {
   "cell_type": "code",
   "execution_count": 24,
   "id": "0f949be7-5050-48e2-af0b-1e8aaf5dc83b",
   "metadata": {},
   "outputs": [
    {
     "name": "stdout",
     "output_type": "stream",
     "text": [
      "* * * * * * * \n",
      "* * * * * * \n",
      "* * * * * \n",
      "* * * * \n",
      "* * * \n",
      "* * \n",
      "* \n"
     ]
    }
   ],
   "source": [
    "def pyramid(n):\n",
    "    for i in range(n, 0, -1):\n",
    "        for j in range(1, i + 1):\n",
    "            print(\"* \", end=\"\")\n",
    "        print()\n",
    "\n",
    "pyramid(7)"
   ]
  },
  {
   "cell_type": "code",
   "execution_count": 32,
   "id": "3e1c38f0-2cde-481d-adc9-d28084921429",
   "metadata": {},
   "outputs": [
    {
     "name": "stdin",
     "output_type": "stream",
     "text": [
      "enter the number of rows: 5\n"
     ]
    },
    {
     "name": "stdout",
     "output_type": "stream",
     "text": [
      "5 4 3 2 1 \n",
      "4 3 2 1 \n",
      "3 2 1 \n",
      "2 1 \n",
      "1 \n",
      "\n"
     ]
    }
   ],
   "source": [
    "rows=int(input(\"enter the number of rows:\"))\n",
    "for i in range(0, 5+1):\n",
    "    for j in range(5 - i, 0, -1):\n",
    "        print(j,end=\" \")\n",
    "    print()    "
   ]
  },
  {
   "cell_type": "code",
   "execution_count": 27,
   "id": "27912d55-5f94-439a-a60b-de8475ec13c4",
   "metadata": {},
   "outputs": [
    {
     "name": "stdin",
     "output_type": "stream",
     "text": [
      "enter the number of rows:  5\n"
     ]
    },
    {
     "name": "stdout",
     "output_type": "stream",
     "text": [
      "        *  \n",
      "       * *  \n",
      "      * * *  \n",
      "     * * * *  \n",
      "    * * * * *  \n"
     ]
    }
   ],
   "source": [
    "rows=int(input(\"enter the number of rows: \"))\n",
    "m=(2*rows)-2\n",
    "for i in range(0, rows):\n",
    "    for j in range(0, m):\n",
    "        print(end=\" \")\n",
    "    m=m-1\n",
    "    for j in range(0, i+1):\n",
    "        print(\"* \" , end='')\n",
    "    print(\" \")    "
   ]
  },
  {
   "cell_type": "code",
   "execution_count": null,
   "id": "fd359e6a-93f9-4f18-9c09-7e6c9abefb3c",
   "metadata": {},
   "outputs": [],
   "source": []
  }
 ],
 "metadata": {
  "kernelspec": {
   "display_name": "Python 3 (ipykernel)",
   "language": "python",
   "name": "python3"
  },
  "language_info": {
   "codemirror_mode": {
    "name": "ipython",
    "version": 3
   },
   "file_extension": ".py",
   "mimetype": "text/x-python",
   "name": "python",
   "nbconvert_exporter": "python",
   "pygments_lexer": "ipython3",
   "version": "3.12.3"
  }
 },
 "nbformat": 4,
 "nbformat_minor": 5
}
