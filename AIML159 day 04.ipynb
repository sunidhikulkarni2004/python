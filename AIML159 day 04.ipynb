{
 "cells": [
  {
   "cell_type": "code",
   "execution_count": 1,
   "id": "9ba20c61-dc86-4eb9-8dd8-ffb048e85633",
   "metadata": {},
   "outputs": [
    {
     "name": "stdin",
     "output_type": "stream",
     "text": [
      " @\n"
     ]
    },
    {
     "name": "stdout",
     "output_type": "stream",
     "text": [
      "A is a special character\n"
     ]
    }
   ],
   "source": [
    "a = input()\n",
    "\n",
    "if a.isupper():\n",
    "    print(\"A is aupper case character\")\n",
    "elif a.islower():\n",
    "     print(\"A is a lower case character\")\n",
    "elif a.isnumeric():\n",
    "     print(\"A is a number\")\n",
    "else:\n",
    "     print(\"A is a special character\")\n"
   ]
  },
  {
   "cell_type": "markdown",
   "id": "aebf4e36-23a3-4847-bc42-97aadc05ea7a",
   "metadata": {},
   "source": [
    "palindrome"
   ]
  },
  {
   "cell_type": "code",
   "execution_count": 2,
   "id": "1ede020d-3495-4297-a28c-1210cc53e7a0",
   "metadata": {},
   "outputs": [
    {
     "name": "stdin",
     "output_type": "stream",
     "text": [
      " gadag\n"
     ]
    },
    {
     "name": "stdout",
     "output_type": "stream",
     "text": [
      "it is a palindrome\n"
     ]
    }
   ],
   "source": [
    "a = input()\n",
    "flag = 0\n",
    "for i in range (0,int(len(a)/2)):\n",
    "    if a[i] != a[(i+1)*-1]:\n",
    "        flag = 1\n",
    "        break\n",
    "if flag:\n",
    "    print(\"not palindrome\")\n",
    "else:\n",
    "    print(\"it is a palindrome\")\n"
   ]
  },
  {
   "cell_type": "code",
   "execution_count": 27,
   "id": "febec149-bb70-4b0f-af22-40483682c351",
   "metadata": {},
   "outputs": [
    {
     "name": "stdin",
     "output_type": "stream",
     "text": [
      " 23\n"
     ]
    },
    {
     "name": "stdout",
     "output_type": "stream",
     "text": [
      "it is a prime number\n"
     ]
    }
   ],
   "source": [
    "a=int(input())\n",
    "\n",
    "for i in range (2,int(a/2)):\n",
    "    if a%i==0:\n",
    "        print(\"it is not a prime number\")\n",
    "        break\n",
    "    else:\n",
    "        print(\"it is a prime number\")\n",
    "        break"
   ]
  },
  {
   "cell_type": "markdown",
   "id": "2e018ff6-3879-4d24-a362-4dc237effa73",
   "metadata": {},
   "source": [
    "--file handling--\n",
    "\n",
    "->create\n",
    "->read\n",
    "->update\n",
    "->delete\n",
    "->termed as CRUD operation"
   ]
  },
  {
   "cell_type": "code",
   "execution_count": null,
   "id": "ad177ba7-d61d-4ab4-a773-a45fa7c10120",
   "metadata": {},
   "outputs": [],
   "source": [
    "if__name__ == '__main__':\n",
    "filename = \"example.txt\"\n",
    "new_filename = \"new_example.txt\"\n",
    "\n",
    "create_file(filename)\n",
    "read_file(filename)\n",
    "append_file(filename, \"this is some addtional text.\\n\")\n",
    "read_file(filename)\n",
    "rename_file(filename,new_filename)\n",
    "read_filen(new_filename)\n",
    "#delete_file(new_filename)"
   ]
  },
  {
   "cell_type": "code",
   "execution_count": 32,
   "id": "f4f126aa-2c61-4328-8341-b7d81e92101d",
   "metadata": {},
   "outputs": [],
   "source": [
    "import os\n",
    "\n",
    "with open(\"file1.txt\",'w') as f:\n",
    "    f.write(\"this is first text in file\\n\")\n",
    "    f.close()"
   ]
  },
  {
   "cell_type": "code",
   "execution_count": 34,
   "id": "701bde26-5e74-47bc-8a51-c0a17c8a4e7c",
   "metadata": {},
   "outputs": [],
   "source": [
    "import os\n",
    "\n",
    "with open(\"file1.txt\",'a') as f:\n",
    "    f.write(\"this is second text in file\\n\")\n",
    "    f.close()\n",
    "    "
   ]
  },
  {
   "cell_type": "code",
   "execution_count": 28,
   "id": "7c4d6df5-9257-4d74-b8df-b0b4fc09cfec",
   "metadata": {},
   "outputs": [],
   "source": [
    "import os\n",
    "\n",
    "os.remove(\"file1.txt\")"
   ]
  },
  {
   "cell_type": "code",
   "execution_count": 35,
   "id": "750710e5-f4c6-4dc6-80e2-719f092b7a72",
   "metadata": {},
   "outputs": [
    {
     "name": "stdout",
     "output_type": "stream",
     "text": [
      "this is first text in file\n",
      "111\n",
      "this is second text in file\n",
      "111\n",
      "this is second text in file\n",
      "111\n",
      "\n",
      "111\n"
     ]
    }
   ],
   "source": [
    "import os\n",
    "\n",
    "with open(\"file1.txt\",'r') as f:\n",
    "    for a in f.read().split(\"\\n\"):\n",
    "        print(a)\n",
    "        print(\"111\")\n",
    "\n",
    "f.close()"
   ]
  },
  {
   "cell_type": "markdown",
   "id": "d1c5ff21-8878-4ab2-990f-ca72ac8df38b",
   "metadata": {},
   "source": [
    "-> w - write\n",
    "-> r - read\n",
    "-> a - append\n",
    "-> w+ - write and read\n",
    "-> r+ - read and write\n",
    "-> a+ - append and read"
   ]
  },
  {
   "cell_type": "markdown",
   "id": "0afb61ac-1366-48e2-adf2-4c53db613780",
   "metadata": {},
   "source": [
    "#Create a file Named as Fruit name and Add the fruit names by taking input from the user.\n",
    " \n",
    "after that replace a fruit name with other fruit name entered by the user.\n",
    "\n",
    "for example:\n",
    "\n",
    "file have \n",
    "Apple\n",
    "Banana\n",
    "Mango\n",
    "Grapes\n",
    "\n",
    "now replace Banana with watermelon"
   ]
  },
  {
   "cell_type": "code",
   "execution_count": null,
   "id": "91c01ee6-1a29-4380-bb04-29141cae7595",
   "metadata": {},
   "outputs": [],
   "source": [
    "import os\n",
    "\n",
    "with open(\"fruits name.txt\",'w'):\n",
    "    f.write(\"enter the fruit name\\n\"))\n",
    "    f.close()"
   ]
  },
  {
   "cell_type": "code",
   "execution_count": 1,
   "id": "95f8bf95-f75a-492b-b220-6dfba2ef482e",
   "metadata": {},
   "outputs": [
    {
     "name": "stdout",
     "output_type": "stream",
     "text": [
      "banana\n",
      "grapes\n",
      "mango\n",
      "apple\n",
      "\n",
      "banana\n",
      "grapes\n",
      "watermelon\n",
      "apple\n",
      "\n"
     ]
    }
   ],
   "source": [
    "import os\n",
    "\n",
    "with open(\"fruits name.txt\",'w') as f:\n",
    "    \n",
    "    f.write(\"banana\\n\")\n",
    "    f.write(\"grapes\\n\")\n",
    "    f.write(\"mango\\n\")\n",
    "    f.write(\"apple\\n\")\n",
    "\n",
    "with open(\"fruits name.txt\",'r') as f:\n",
    "    a = f.read()\n",
    "    print(a)\n",
    "    Y=a.replace(\"mango\",\"watermelon\",1)\n",
    "    print(Y)"
   ]
  },
  {
   "cell_type": "code",
   "execution_count": null,
   "id": "d87f7f0f-a40e-4166-8d03-2ef851db7a25",
   "metadata": {},
   "outputs": [],
   "source": [
    "import os\n",
    "\n",
    "with open(\"fruits name.txt\",'w') as f:\n",
    "    \n",
    "    f.read(\"banana\\n\")\n",
    "    f.read(\"grapes\\n\")\n",
    "    f.read(\"man"
   ]
  },
  {
   "cell_type": "code",
   "execution_count": null,
   "id": "ae48571f-5387-4a9c-8590-24dba24e505c",
   "metadata": {},
   "outputs": [],
   "source": [
    "import os\n",
    "\n",
    "with open(\"fruits name.txt\",'r'):\n",
    "    f.write(\"enter the fruit name\\n\"))\n",
    "    f.close()"
   ]
  },
  {
   "cell_type": "code",
   "execution_count": null,
   "id": "3d956ceb-f68c-4074-93e9-f7b0c5a7a1b2",
   "metadata": {},
   "outputs": [],
   "source": []
  }
 ],
 "metadata": {
  "kernelspec": {
   "display_name": "Python 3 (ipykernel)",
   "language": "python",
   "name": "python3"
  },
  "language_info": {
   "codemirror_mode": {
    "name": "ipython",
    "version": 3
   },
   "file_extension": ".py",
   "mimetype": "text/x-python",
   "name": "python",
   "nbconvert_exporter": "python",
   "pygments_lexer": "ipython3",
   "version": "3.12.3"
  }
 },
 "nbformat": 4,
 "nbformat_minor": 5
}
